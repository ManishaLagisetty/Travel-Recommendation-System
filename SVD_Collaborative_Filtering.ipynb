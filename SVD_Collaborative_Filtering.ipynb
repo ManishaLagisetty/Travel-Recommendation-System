{
 "cells": [
  {
   "cell_type": "markdown",
   "metadata": {
    "id": "AYbluNA5JPsS"
   },
   "source": [
    "### Importing neccesary libraries"
   ]
  },
  {
   "cell_type": "code",
   "execution_count": null,
   "metadata": {
    "id": "_RqGAYkNko1I"
   },
   "outputs": [],
   "source": [
    "from surprise import Dataset\n",
    "from surprise import Reader\n",
    "from surprise import SVD  # SVD stands for Singular Value Decomposition, also an MF-based method like ALS\n",
    "from surprise.model_selection import train_test_split\n",
    "from surprise import accuracy\n",
    "import pandas as pd\n",
    "import numpy as np"
   ]
  },
  {
   "cell_type": "markdown",
   "metadata": {
    "id": "LNxQxfRoJPsU"
   },
   "source": [
    "### Loading Business, Review csv files and Merging them into new business_reviews.csv file"
   ]
  },
  {
   "cell_type": "code",
   "execution_count": null,
   "metadata": {
    "id": "FBC-_Qlqlj28"
   },
   "outputs": [],
   "source": [
    "#Loading the Review CSV file into a DataFrame\n",
    "df_review = pd.read_csv('/content/drive/Shareddrives/228 Travel Recommendation/Dataset/yelp_academic_dataset_review.csv', usecols=['user_id', 'business_id', 'stars'])\n",
    "\n",
    "#Loading the Business CSV file into another DataFrame\n",
    "df_business = pd.read_csv('/content/drive/Shareddrives/228 Travel Recommendation/Dataset/yelp_academic_dataset_business.csv', usecols=['business_id', 'name'])\n",
    "\n",
    "#Merging the two DataFrames based on the 'business_id' column\n",
    "merged_df = pd.merge(df_review, df_business, on='business_id', how='inner')\n",
    "\n",
    "#Saving the merged DataFrame to a new business_reviews CSV file\n",
    "merged_df.to_csv('/content/drive/Shareddrives/228 Travel Recommendation/Dataset/business_reviews.csv', index=False)"
   ]
  },
  {
   "cell_type": "code",
   "execution_count": null,
   "metadata": {
    "id": "NuuY9E4UnIpm"
   },
   "outputs": [],
   "source": [
    "#Loading the new CSV file into a Pandas DataFrame\n",
    "file_path = '/content/drive/Shareddrives/228 Travel Recommendation/Dataset/business_reviews.csv'\n",
    "data = pd.read_csv(file_path)"
   ]
  },
  {
   "cell_type": "code",
   "execution_count": null,
   "metadata": {
    "colab": {
     "base_uri": "https://localhost:8080/"
    },
    "id": "WgJsgHHnnU3p",
    "outputId": "efda907f-0ed6-4093-acbb-4f9a235940c8"
   },
   "outputs": [
    {
     "data": {
      "text/plain": [
       "<bound method NDFrame.head of                         user_id             business_id  stars  \\\n",
       "0        mh_-eMZ6K5RLWhZyISBhwA  XQfwVwDr-v0ZS3_CbbE5Xw    3.0   \n",
       "1        Iaee7y6zdSB3B-kRCo4z1w  XQfwVwDr-v0ZS3_CbbE5Xw    2.0   \n",
       "2        ejFxLGqQcWNLdNByJlIhnQ  XQfwVwDr-v0ZS3_CbbE5Xw    4.0   \n",
       "3        f7xa0p_1V9lx53iIGN5Sug  XQfwVwDr-v0ZS3_CbbE5Xw    3.0   \n",
       "4        dCooFVCk8M1nVaQqcfTL3Q  XQfwVwDr-v0ZS3_CbbE5Xw    2.0   \n",
       "...                         ...                     ...    ...   \n",
       "6990275  xHu1jmrnv4DdJMuC8IxeRg  vI4vyi1dfG93oAiSRFDymA    1.0   \n",
       "6990276  aYveEctPYcZiubXyEgLhTA  vI4vyi1dfG93oAiSRFDymA    5.0   \n",
       "6990277  oz-So7Kwo5tW51HrT-BgIg  vI4vyi1dfG93oAiSRFDymA    1.0   \n",
       "6990278  09zj3b4tM-xJjozvtk34wQ  vI4vyi1dfG93oAiSRFDymA    1.0   \n",
       "6990279  hyfUdXDmgqA4GI3S11I69w  vI4vyi1dfG93oAiSRFDymA    5.0   \n",
       "\n",
       "                                     name  \n",
       "0            Turning Point of North Wales  \n",
       "1            Turning Point of North Wales  \n",
       "2            Turning Point of North Wales  \n",
       "3            Turning Point of North Wales  \n",
       "4            Turning Point of North Wales  \n",
       "...                                   ...  \n",
       "6990275  Aesthetic Dermatology Associates  \n",
       "6990276  Aesthetic Dermatology Associates  \n",
       "6990277  Aesthetic Dermatology Associates  \n",
       "6990278  Aesthetic Dermatology Associates  \n",
       "6990279  Aesthetic Dermatology Associates  \n",
       "\n",
       "[6990280 rows x 4 columns]>"
      ]
     },
     "execution_count": 5,
     "metadata": {},
     "output_type": "execute_result"
    }
   ],
   "source": [
    "data.head"
   ]
  },
  {
   "cell_type": "code",
   "execution_count": null,
   "metadata": {
    "colab": {
     "base_uri": "https://localhost:8080/"
    },
    "id": "NacgpGPpnWld",
    "outputId": "babbf5e4-df3e-46e3-af99-26519e2b8ae7"
   },
   "outputs": [
    {
     "name": "stdout",
     "output_type": "stream",
     "text": [
      "Index(['user_id', 'business_id', 'stars', 'name'], dtype='object')\n"
     ]
    }
   ],
   "source": [
    "print(data.columns)"
   ]
  },
  {
   "cell_type": "markdown",
   "metadata": {
    "id": "K82UkAfMJPsV"
   },
   "source": [
    "### Defining a Reader object specifying the rating scale"
   ]
  },
  {
   "cell_type": "code",
   "execution_count": null,
   "metadata": {
    "id": "VZfVdzyTnYOp"
   },
   "outputs": [],
   "source": [
    "reader = Reader(rating_scale=(1, 5))  #the rating scale we have is from 1 to 5"
   ]
  },
  {
   "cell_type": "code",
   "execution_count": null,
   "metadata": {
    "id": "HabOD9mgniBe"
   },
   "outputs": [],
   "source": [
    "#Loading the dataset from the DataFrame\n",
    "data_loading = Dataset.load_from_df(data[['user_id', 'business_id','stars']], reader)"
   ]
  },
  {
   "cell_type": "markdown",
   "metadata": {
    "id": "Z02ka9eTJPsW"
   },
   "source": [
    "### Splitting the dataset and Training the SVD model"
   ]
  },
  {
   "cell_type": "code",
   "execution_count": null,
   "metadata": {
    "id": "RnPxcxdfnw8d"
   },
   "outputs": [],
   "source": [
    "#Splitting the data into training and testing sets\n",
    "trainset, testset = train_test_split(data_loading, test_size=0.2)  # You can adjust the test_size"
   ]
  },
  {
   "cell_type": "code",
   "execution_count": null,
   "metadata": {
    "id": "PsnBFIeRn1av"
   },
   "outputs": [],
   "source": [
    "#Defining the SVD model\n",
    "model = SVD()\n",
    "\n",
    "#Training the model on the training set\n",
    "model.fit(trainset)\n",
    "\n",
    "#Making the predictions on the test set\n",
    "predictions = model.test(testset)"
   ]
  },
  {
   "cell_type": "markdown",
   "metadata": {
    "id": "i6QaiXduJPsW"
   },
   "source": [
    "### Performing Cosine Similiarity"
   ]
  },
  {
   "cell_type": "code",
   "execution_count": null,
   "metadata": {
    "id": "5gj6AgeGoPLx"
   },
   "outputs": [],
   "source": [
    "#doing predictive rating and actual ratings\n",
    "\n",
    "predicted_ratings = [pred.est for pred in predictions]\n",
    "actual_ratings = [pred.r_ui for pred in predictions]"
   ]
  },
  {
   "cell_type": "code",
   "execution_count": null,
   "metadata": {
    "id": "jkYVFu-pp6gL"
   },
   "outputs": [],
   "source": [
    "#Calculating Cosine Similarity between precitive rating and actual rating\n",
    "\n",
    "from sklearn.metrics.pairwise import cosine_similarity\n",
    "\n",
    "#Converting the lists to NumPy arrays\n",
    "predicted_ratings_array = np.array([predicted_ratings])\n",
    "actual_ratings_array = np.array([actual_ratings])\n",
    "\n",
    "#Reshaping arrays\n",
    "predicted_ratings_array = predicted_ratings_array.reshape(1, -1)\n",
    "actual_ratings_array = actual_ratings_array.reshape(1, -1)\n",
    "\n",
    "#Calculating cosine similarity\n",
    "similarity_score = cosine_similarity(predicted_ratings_array, actual_ratings_array)"
   ]
  },
  {
   "cell_type": "code",
   "execution_count": null,
   "metadata": {
    "colab": {
     "base_uri": "https://localhost:8080/"
    },
    "id": "yc0MwCu9qMXE",
    "outputId": "0c2a268b-9b48-4259-b8e8-972bf5d4c7e7"
   },
   "outputs": [
    {
     "name": "stdout",
     "output_type": "stream",
     "text": [
      "Cosine Similarity Score: 0.9476924933511831\n"
     ]
    }
   ],
   "source": [
    "print(f\"Cosine Similarity Score: {similarity_score[0, 0]}\")"
   ]
  },
  {
   "cell_type": "markdown",
   "metadata": {
    "id": "IEUPxG--JPsX"
   },
   "source": [
    "### Making Recommendations for a specific user"
   ]
  },
  {
   "cell_type": "code",
   "execution_count": null,
   "metadata": {
    "id": "LApyCggbqPlz"
   },
   "outputs": [],
   "source": [
    "user_id = 'vI4vyi1dfG93oAiSRFDymA'\n",
    "user_recommendations = []"
   ]
  },
  {
   "cell_type": "code",
   "execution_count": null,
   "metadata": {
    "colab": {
     "base_uri": "https://localhost:8080/"
    },
    "id": "s0ms9aAQqV81",
    "outputId": "df482f38-d875-48b1-eb20-cf66f5d42a18"
   },
   "outputs": [
    {
     "name": "stdout",
     "output_type": "stream",
     "text": [
      "Top 20 Recommendations for User vI4vyi1dfG93oAiSRFDymA:\n",
      "1. Business ID: NDwoKO79_T49UEKVDlHd3A, Business Name: Sustainable Wine Tours, Predicted Rating: 4.9310282546320146\n",
      "2. Business ID: B2Tuf5M1wQhdwAKnD-w7Yw, Business Name: New Orleans Airboat Tours, Predicted Rating: 4.928910449664647\n",
      "3. Business ID: STEG37SqBC3PkwY4wgSoPg, Business Name: Taylor Home Solutions, Predicted Rating: 4.924875280294676\n",
      "4. Business ID: QNilrbTi8912ye2ztnBMpA, Business Name: DeeTours of Santa Barbara, Predicted Rating: 4.92315855547764\n",
      "5. Business ID: TDEV16C4GhK5wyhL-5V7ww, Business Name: Flambeaux Bicycle Tours, Predicted Rating: 4.922757893571927\n",
      "6. Business ID: 0IjDqJexP6jTH4F_Kg4mrQ, Business Name: A New Twist Balloons and Face Painting, Predicted Rating: 4.922038445634181\n",
      "7. Business ID: ez4kMLP6OJEIaMbMrrGRdA, Business Name: New Orleans Secrets Tours, Predicted Rating: 4.921074405323677\n",
      "8. Business ID: im3hUe2nigm2Xm-Z1SNXIg, Business Name: B & B Heating and Air, Predicted Rating: 4.916877307732881\n",
      "9. Business ID: NfKcglAqZ3eZMIepH1YwYw, Business Name: Matt Glynn - Schumacher Mortgage, Predicted Rating: 4.915183954572072\n",
      "10. Business ID: 4-P4Bzqd01YvKX9tp7IGfQ, Business Name: Drink & Learn, Predicted Rating: 4.913210407877951\n",
      "11. Business ID: 1RqfozJoosHAsKZhc5PY7w, Business Name: Walls Jewelry Repairing, Predicted Rating: 4.911830600191876\n",
      "12. Business ID: xvQVM5I98wKlHWk6Tk_rgA, Business Name: AllVitae Health & Chiropractic, Predicted Rating: 4.911678668211525\n",
      "13. Business ID: V4zFdsULzaRFJmOyQsiH_Q, Business Name: Ally Detail, Predicted Rating: 4.911136791849017\n",
      "14. Business ID: aKTGTh_K07hdax59FOGYjw, Business Name: Northern Nevada Window Tinting, Predicted Rating: 4.911085755437537\n",
      "15. Business ID: uBZ63b5lN2TR89CuX7NWrg, Business Name: Wisecrack Auto Glass, Predicted Rating: 4.910544201368929\n",
      "16. Business ID: U6gikR4uhRl4zU8q3j02oA, Business Name: The Artist Haus, Predicted Rating: 4.907600302001697\n",
      "17. Business ID: YnGlopjmCYM6Pw07qt9bfw, Business Name: Mio’s Grill & Cafe, Predicted Rating: 4.907229570740032\n",
      "18. Business ID: PmYILphI46sDCAxkDZARjQ, Business Name: BA Locksmith & Security, Predicted Rating: 4.905056699449138\n",
      "19. Business ID: jMzcn59A2OYZ3zv2BoDdOw, Business Name: Fernando's Smog Check, Predicted Rating: 4.904847524908421\n",
      "20. Business ID: 2FQoAp9w0G_NhuZMqo9bfA, Business Name: ByCherry Photography, Predicted Rating: 4.903934095439833\n"
     ]
    }
   ],
   "source": [
    "data_loading = Dataset.load_from_df(data[['user_id', 'business_id', 'stars']], reader)\n",
    "\n",
    "#Fetching businesses that the user has not rated yet\n",
    "rated_items = data_loading.df[data_loading.df['user_id'] == user_id]['business_id']\n",
    "user_recommendations = []\n",
    "\n",
    "for business_id in data_loading.df['business_id'].unique():\n",
    "    if business_id not in rated_items.values:\n",
    "        predicted_rating = model.predict(user_id, business_id).est\n",
    "        user_recommendations.append((business_id, predicted_rating))\n",
    "\n",
    "#Sorting the recommendations by predicted rating in descending order\n",
    "user_recommendations.sort(key=lambda x: x[1], reverse=True)\n",
    "\n",
    "#Displaying top 20 recommendations for the selected user\n",
    "top_n = 20\n",
    "print(f\"Top {top_n} Recommendations for User {user_id}:\")\n",
    "for idx, (business_id, predicted_rating) in enumerate(user_recommendations[:top_n], 1):\n",
    "    #Looking up 'name' from the 'data' DataFrame\n",
    "    business_name = data[data['business_id'] == business_id]['name'].values[0]\n",
    "    print(f\"{idx}. Business ID: {business_id}, Business Name: {business_name}, Predicted Rating: {predicted_rating}\")"
   ]
  }
 ],
 "metadata": {
  "accelerator": "GPU",
  "colab": {
   "gpuType": "T4",
   "provenance": []
  },
  "kernelspec": {
   "display_name": "Python 3 (ipykernel)",
   "language": "python",
   "name": "python3"
  },
  "language_info": {
   "codemirror_mode": {
    "name": "ipython",
    "version": 3
   },
   "file_extension": ".py",
   "mimetype": "text/x-python",
   "name": "python",
   "nbconvert_exporter": "python",
   "pygments_lexer": "ipython3",
   "version": "3.9.13"
  }
 },
 "nbformat": 4,
 "nbformat_minor": 1
}
